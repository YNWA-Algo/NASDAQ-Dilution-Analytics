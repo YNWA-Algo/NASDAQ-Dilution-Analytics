{
  "nbformat": 4,
  "nbformat_minor": 0,
  "metadata": {
    "colab": {
      "provenance": [],
      "authorship_tag": "ABX9TyPd71TyvLXwcyAj1Q+fQZY0",
      "include_colab_link": true
    },
    "kernelspec": {
      "name": "python3",
      "display_name": "Python 3"
    },
    "language_info": {
      "name": "python"
    }
  },
  "cells": [
    {
      "cell_type": "markdown",
      "metadata": {
        "id": "view-in-github",
        "colab_type": "text"
      },
      "source": [
        "<a href=\"https://colab.research.google.com/github/YNWA-Algo/NASDAQ-Dilution-Analytics/blob/main/NASDAQtickers1_Google.ipynb\" target=\"_parent\"><img src=\"https://colab.research.google.com/assets/colab-badge.svg\" alt=\"Open In Colab\"/></a>"
      ]
    },
    {
      "cell_type": "code",
      "source": [
        "pip install PyGithub"
      ],
      "metadata": {
        "colab": {
          "base_uri": "https://localhost:8080/"
        },
        "id": "OZV4gdy_Qckz",
        "outputId": "afcc5c80-3a96-4fd5-bdcd-4275d1070ded"
      },
      "execution_count": 9,
      "outputs": [
        {
          "output_type": "stream",
          "name": "stdout",
          "text": [
            "Requirement already satisfied: PyGithub in /usr/local/lib/python3.10/dist-packages (2.3.0)\n",
            "Requirement already satisfied: pynacl>=1.4.0 in /usr/local/lib/python3.10/dist-packages (from PyGithub) (1.5.0)\n",
            "Requirement already satisfied: requests>=2.14.0 in /usr/local/lib/python3.10/dist-packages (from PyGithub) (2.31.0)\n",
            "Requirement already satisfied: pyjwt[crypto]>=2.4.0 in /usr/local/lib/python3.10/dist-packages (from PyGithub) (2.8.0)\n",
            "Requirement already satisfied: typing-extensions>=4.0.0 in /usr/local/lib/python3.10/dist-packages (from PyGithub) (4.10.0)\n",
            "Requirement already satisfied: urllib3>=1.26.0 in /usr/local/lib/python3.10/dist-packages (from PyGithub) (2.0.7)\n",
            "Requirement already satisfied: Deprecated in /usr/local/lib/python3.10/dist-packages (from PyGithub) (1.2.14)\n",
            "Requirement already satisfied: cryptography>=3.4.0 in /usr/local/lib/python3.10/dist-packages (from pyjwt[crypto]>=2.4.0->PyGithub) (42.0.5)\n",
            "Requirement already satisfied: cffi>=1.4.1 in /usr/local/lib/python3.10/dist-packages (from pynacl>=1.4.0->PyGithub) (1.16.0)\n",
            "Requirement already satisfied: charset-normalizer<4,>=2 in /usr/local/lib/python3.10/dist-packages (from requests>=2.14.0->PyGithub) (3.3.2)\n",
            "Requirement already satisfied: idna<4,>=2.5 in /usr/local/lib/python3.10/dist-packages (from requests>=2.14.0->PyGithub) (3.6)\n",
            "Requirement already satisfied: certifi>=2017.4.17 in /usr/local/lib/python3.10/dist-packages (from requests>=2.14.0->PyGithub) (2024.2.2)\n",
            "Requirement already satisfied: wrapt<2,>=1.10 in /usr/local/lib/python3.10/dist-packages (from Deprecated->PyGithub) (1.14.1)\n",
            "Requirement already satisfied: pycparser in /usr/local/lib/python3.10/dist-packages (from cffi>=1.4.1->pynacl>=1.4.0->PyGithub) (2.21)\n"
          ]
        }
      ]
    },
    {
      "cell_type": "code",
      "source": [
        "import pandas_datareader as pdr\n",
        "import csv\n",
        "from github import Github\n",
        "import os"
      ],
      "metadata": {
        "id": "zxUaiD_xRI3l"
      },
      "execution_count": 21,
      "outputs": []
    },
    {
      "cell_type": "code",
      "execution_count": 30,
      "metadata": {
        "id": "4CTjPXgSP_eA"
      },
      "outputs": [],
      "source": [
        "# Google Finance URL for NASDAQ symbols\n",
        "nasdaq_url = 'https://finance.google.com/finance?q=NASDAQ%3A'\n",
        "\n",
        "# GitHub credentials\n",
        "GITHUB_TOKEN = 'INSERT TOKEN'\n",
        "REPO_OWNER = 'YNWA-Algo'\n",
        "REPO_NAME = 'NASDAQ-Dilution-Analytics'\n",
        "# Function to fetch NASDAQ tickers\n",
        "def fetch_nasdaq_tickers():\n",
        "    nasdaq_symbols = pdr.nasdaq_trader.get_nasdaq_symbols()\n",
        "    print(nasdaq_symbols.columns)  # Print columns of DataFrame\n",
        "    return nasdaq_symbols['NASDAQ Symbol'].tolist()\n",
        "\n",
        "# Function to save NASDAQ tickers to a CSV file\n",
        "def save_to_csv(data, filename):\n",
        "    with open(filename, 'w', newline='') as file:\n",
        "        writer = csv.writer(file)\n",
        "        writer.writerow(['Ticker'])\n",
        "        for symbol in data:\n",
        "            writer.writerow([symbol])\n"
      ]
    },
    {
      "cell_type": "code",
      "source": [
        "# Main function\n",
        "def main():\n",
        "    # GitHub connection\n",
        "    g = Github(GITHUB_TOKEN)\n",
        "    repo = g.get_user(REPO_OWNER).get_repo(REPO_NAME)\n",
        "\n",
        "# Fetch NASDAQ tickers\n",
        "    nasdaq_tickers = fetch_nasdaq_tickers()\n",
        "\n",
        "    # Save tickers to CSV\n",
        "    filename = 'nasdaq_tickers.csv'\n",
        "    save_to_csv(nasdaq_tickers, filename)\n",
        "\n",
        "    # Commit to GitHub\n",
        "    with open(filename, 'rb') as file:\n",
        "        content = file.read()\n",
        "        repo.create_file(filename, \"List of NASDAQ tickers\", content, branch=\"main\")\n",
        "\n",
        "    # Remove local CSV file\n",
        "    os.remove(filename)\n",
        "\n",
        "    print(\"NASDAQ tickers fetched and uploaded to GitHub!\")\n",
        "\n",
        "if __name__ == \"__main__\":\n",
        "    main()\n"
      ],
      "metadata": {
        "colab": {
          "base_uri": "https://localhost:8080/"
        },
        "id": "csbWBXy9Uxcn",
        "outputId": "3591d734-2bb1-4f35-b4ac-d66641882beb"
      },
      "execution_count": 31,
      "outputs": [
        {
          "output_type": "stream",
          "name": "stdout",
          "text": [
            "Index(['Nasdaq Traded', 'Security Name', 'Listing Exchange', 'Market Category',\n",
            "       'ETF', 'Round Lot Size', 'Test Issue', 'Financial Status', 'CQS Symbol',\n",
            "       'NASDAQ Symbol', 'NextShares'],\n",
            "      dtype='object')\n",
            "NASDAQ tickers fetched and uploaded to GitHub!\n"
          ]
        }
      ]
    }
  ]
}
