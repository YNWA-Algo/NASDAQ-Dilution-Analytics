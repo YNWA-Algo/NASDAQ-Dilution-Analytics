{
  "nbformat": 4,
  "nbformat_minor": 0,
  "metadata": {
    "colab": {
      "provenance": [],
      "authorship_tag": "ABX9TyP1CeiBzmIZtPfFidr8eeLe",
      "include_colab_link": true
    },
    "kernelspec": {
      "name": "python3",
      "display_name": "Python 3"
    },
    "language_info": {
      "name": "python"
    }
  },
  "cells": [
    {
      "cell_type": "markdown",
      "metadata": {
        "id": "view-in-github",
        "colab_type": "text"
      },
      "source": [
        "<a href=\"https://colab.research.google.com/github/YNWA-Algo/NASDAQ-Dilution-Analytics/blob/main/NASDAQ_Dilution.ipynb\" target=\"_parent\"><img src=\"https://colab.research.google.com/assets/colab-badge.svg\" alt=\"Open In Colab\"/></a>"
      ]
    },
    {
      "cell_type": "code",
      "execution_count": 2,
      "metadata": {
        "colab": {
          "base_uri": "https://localhost:8080/"
        },
        "id": "U14Dzhm3cRll",
        "outputId": "5ff1cf9a-a4d1-44ae-ea67-85be38b0ea13"
      },
      "outputs": [
        {
          "output_type": "stream",
          "name": "stdout",
          "text": [
            "Error: Historical data not found in API response.\n",
            "Data retrieval failed. Please check the API response.\n"
          ]
        }
      ],
      "source": [
        "import requests\n",
        "import pandas as pd\n",
        "\n",
        "def fetch_nasdaq_stock_data(start_date, end_date):\n",
        "    base_url = \"https://financialmodelingprep.com/api/v3/historical-price-full/\"\n",
        "    nasdaq_url = f\"{base_url}NASDAQ?from={start_date}&to={end_date}\"\n",
        "\n",
        "    try:\n",
        "        response = requests.get(nasdaq_url)\n",
        "        data = response.json()\n",
        "\n",
        "        if \"historical\" in data:\n",
        "            stock_data = data[\"historical\"]\n",
        "        else:\n",
        "            print(\"Error: Historical data not found in API response.\")\n",
        "            return None\n",
        "\n",
        "        stock_info = []\n",
        "        for stock in stock_data:\n",
        "            symbol = stock[\"symbol\"]\n",
        "            date = stock[\"date\"]\n",
        "            open_price = stock[\"open\"]\n",
        "            close_price = stock[\"close\"]\n",
        "            high_price = stock[\"high\"]\n",
        "            low_price = stock[\"low\"]\n",
        "            outstanding_shares = stock[\"volume\"]\n",
        "\n",
        "            stock_info.append({\n",
        "                \"Symbol\": symbol,\n",
        "                \"Date\": date,\n",
        "                \"Open\": open_price,\n",
        "                \"Close\": close_price,\n",
        "                \"High\": high_price,\n",
        "                \"Low\": low_price,\n",
        "                \"Outstanding Shares\": outstanding_shares\n",
        "            })\n",
        "\n",
        "        df = pd.DataFrame(stock_info)\n",
        "        return df\n",
        "\n",
        "    except Exception as e:\n",
        "        print(f\"Error fetching data: {e}\")\n",
        "        return None\n",
        "\n",
        "# Specify the date range\n",
        "start_date = \"2023-01-01\"\n",
        "end_date = \"2023-12-31\"\n",
        "\n",
        "# Fetch NASDAQ stock data\n",
        "nasdaq_stock_df = fetch_nasdaq_stock_data(start_date, end_date)\n",
        "\n",
        "if nasdaq_stock_df is not None:\n",
        "    print(nasdaq_stock_df.head())\n",
        "else:\n",
        "    print(\"Data retrieval failed. Please check the API response.\")\n",
        "\n"
      ]
    }
  ]
}